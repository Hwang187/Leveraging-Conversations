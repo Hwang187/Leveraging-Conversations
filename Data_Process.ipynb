{
 "cells": [
  {
   "cell_type": "code",
   "execution_count": 1,
   "metadata": {},
   "outputs": [],
   "source": [
    "import pandas as pd\n",
    "import time"
   ]
  },
  {
   "cell_type": "code",
   "execution_count": 2,
   "metadata": {},
   "outputs": [
    {
     "name": "stderr",
     "output_type": "stream",
     "text": [
      "/Users/wanghan/anaconda3/lib/python3.7/site-packages/IPython/core/interactiveshell.py:3020: DtypeWarning: Columns (2,3,4) have mixed types. Specify dtype option on import or set low_memory=False.\n",
      "  interactivity=interactivity, compiler=compiler, result=result)\n"
     ]
    }
   ],
   "source": [
    "path = '/Users/wanghan/Projects/MacMic/data/Messaging.csv'\n",
    "message = pd.read_csv(path)"
   ]
  },
  {
   "cell_type": "code",
   "execution_count": 12,
   "metadata": {},
   "outputs": [],
   "source": [
    "message = message.dropna()"
   ]
  },
  {
   "cell_type": "code",
   "execution_count": 33,
   "metadata": {},
   "outputs": [],
   "source": [
    "message = message.reset_index(drop=True)"
   ]
  },
  {
   "cell_type": "code",
   "execution_count": 14,
   "metadata": {},
   "outputs": [
    {
     "name": "stderr",
     "output_type": "stream",
     "text": [
      "paramiko missing, opening SSH/SCP/SFTP paths will be disabled.  `pip install paramiko` to suppress\n",
      "[nltk_data] Downloading package wordnet to /Users/wanghan/nltk_data...\n",
      "[nltk_data]   Package wordnet is already up-to-date!\n"
     ]
    },
    {
     "data": {
      "text/plain": [
       "True"
      ]
     },
     "execution_count": 14,
     "metadata": {},
     "output_type": "execute_result"
    }
   ],
   "source": [
    "#Loading gensim and nltk libraries\n",
    "import gensim\n",
    "from gensim.utils import simple_preprocess\n",
    "from gensim.parsing.preprocessing import STOPWORDS\n",
    "from nltk.stem import WordNetLemmatizer, SnowballStemmer\n",
    "from nltk.stem.porter import *\n",
    "import numpy as np\n",
    "# np.random.seed(2018)\n",
    "import nltk\n",
    "nltk.download('wordnet')"
   ]
  },
  {
   "cell_type": "code",
   "execution_count": 38,
   "metadata": {},
   "outputs": [],
   "source": [
    "from nltk.stem.porter import *\n",
    "def lemmatize_stemming(text):\n",
    "    stemmer = PorterStemmer()\n",
    "    return stemmer.stem(WordNetLemmatizer().lemmatize(text, pos='v'))\n",
    "def preprocess(text):\n",
    "    result = []\n",
    "    for token in gensim.utils.simple_preprocess(text):\n",
    "        if token not in gensim.parsing.preprocessing.STOPWORDS and len(token) > 2:\n",
    "            result.append(lemmatize_stemming(token))\n",
    "    return result\n"
   ]
  },
  {
   "cell_type": "code",
   "execution_count": 39,
   "metadata": {},
   "outputs": [],
   "source": [
    "from gensim import corpora, models\n",
    "def generate_dictionary_corpus(chat):\n",
    "    processed_docs = chat['CHAT Messages Message Body'].map(preprocess)\n",
    "    dictionary = gensim.corpora.Dictionary(processed_docs)\n",
    "    dictionary.filter_extremes(no_below=15, no_above=0.8)\n",
    "    bow_corpus = [dictionary.doc2bow(doc) for doc in processed_docs]\n",
    "    return(processed_docs, dictionary, bow_corpus)\n",
    "\n",
    "def generate_tfidf(bow_corpus):\n",
    "    tfidf = models.TfidfModel(bow_corpus)\n",
    "    corpus_tfidf = tfidf[bow_corpus]\n",
    "    return(corpus_tfidf)"
   ]
  },
  {
   "cell_type": "code",
   "execution_count": 40,
   "metadata": {},
   "outputs": [],
   "source": [
    "documents = message[['CHAT Messages Message Body']]"
   ]
  },
  {
   "cell_type": "code",
   "execution_count": 41,
   "metadata": {},
   "outputs": [],
   "source": [
    "processed_docs, dictionary, bow_corpus = generate_dictionary_corpus(documents)\n",
    "corpus_tfidf = generate_tfidf(bow_corpus)"
   ]
  },
  {
   "cell_type": "code",
   "execution_count": 50,
   "metadata": {},
   "outputs": [],
   "source": [
    "message['clean_text'] = processed_docs"
   ]
  },
  {
   "cell_type": "code",
   "execution_count": 51,
   "metadata": {},
   "outputs": [
    {
     "data": {
      "text/html": [
       "<div>\n",
       "<style scoped>\n",
       "    .dataframe tbody tr th:only-of-type {\n",
       "        vertical-align: middle;\n",
       "    }\n",
       "\n",
       "    .dataframe tbody tr th {\n",
       "        vertical-align: top;\n",
       "    }\n",
       "\n",
       "    .dataframe thead th {\n",
       "        text-align: right;\n",
       "    }\n",
       "</style>\n",
       "<table border=\"1\" class=\"dataframe\">\n",
       "  <thead>\n",
       "    <tr style=\"text-align: right;\">\n",
       "      <th></th>\n",
       "      <th>Users User ID</th>\n",
       "      <th>CHATting Stylists Stylist ID</th>\n",
       "      <th>CHAT Messages Created Time</th>\n",
       "      <th>CHAT Messages Sender</th>\n",
       "      <th>CHAT Messages Message Body</th>\n",
       "      <th>clean_text</th>\n",
       "    </tr>\n",
       "  </thead>\n",
       "  <tbody>\n",
       "    <tr>\n",
       "      <th>0</th>\n",
       "      <td>216703.0</td>\n",
       "      <td>98569.0</td>\n",
       "      <td>6/12/2019 20:21</td>\n",
       "      <td>stylist</td>\n",
       "      <td>Sounds good 😊</td>\n",
       "      <td>[sound, good]</td>\n",
       "    </tr>\n",
       "    <tr>\n",
       "      <th>1</th>\n",
       "      <td>313354.0</td>\n",
       "      <td>281470.0</td>\n",
       "      <td>6/12/2019 20:21</td>\n",
       "      <td>customer</td>\n",
       "      <td>Sorry that was ment to say dollars</td>\n",
       "      <td>[sorri, ment, dollar]</td>\n",
       "    </tr>\n",
       "    <tr>\n",
       "      <th>2</th>\n",
       "      <td>202942.0</td>\n",
       "      <td>156257.0</td>\n",
       "      <td>6/12/2019 20:21</td>\n",
       "      <td>stylist</td>\n",
       "      <td>Great - would you like a box for each of the b...</td>\n",
       "      <td>[great, like, box, boy]</td>\n",
       "    </tr>\n",
       "    <tr>\n",
       "      <th>3</th>\n",
       "      <td>313354.0</td>\n",
       "      <td>281470.0</td>\n",
       "      <td>6/12/2019 20:20</td>\n",
       "      <td>customer</td>\n",
       "      <td>So let's say one item cost 20 and 15 and if sh...</td>\n",
       "      <td>[let, item, cost, keep, item, pay, dolla]</td>\n",
       "    </tr>\n",
       "    <tr>\n",
       "      <th>4</th>\n",
       "      <td>313354.0</td>\n",
       "      <td>281470.0</td>\n",
       "      <td>6/12/2019 20:19</td>\n",
       "      <td>stylist</td>\n",
       "      <td>Yes, you only pay for the items you decide to ...</td>\n",
       "      <td>[ye, pay, item, decid, send, iphon]</td>\n",
       "    </tr>\n",
       "  </tbody>\n",
       "</table>\n",
       "</div>"
      ],
      "text/plain": [
       "   Users User ID   CHATting Stylists Stylist ID CHAT Messages Created Time  \\\n",
       "0       216703.0                        98569.0            6/12/2019 20:21   \n",
       "1       313354.0                       281470.0            6/12/2019 20:21   \n",
       "2       202942.0                       156257.0            6/12/2019 20:21   \n",
       "3       313354.0                       281470.0            6/12/2019 20:20   \n",
       "4       313354.0                       281470.0            6/12/2019 20:19   \n",
       "\n",
       "  CHAT Messages Sender                         CHAT Messages Message Body  \\\n",
       "0              stylist                                      Sounds good 😊   \n",
       "1             customer                Sorry that was ment to say dollars    \n",
       "2              stylist  Great - would you like a box for each of the b...   \n",
       "3             customer  So let's say one item cost 20 and 15 and if sh...   \n",
       "4              stylist  Yes, you only pay for the items you decide to ...   \n",
       "\n",
       "                                  clean_text  \n",
       "0                              [sound, good]  \n",
       "1                      [sorri, ment, dollar]  \n",
       "2                    [great, like, box, boy]  \n",
       "3  [let, item, cost, keep, item, pay, dolla]  \n",
       "4        [ye, pay, item, decid, send, iphon]  "
      ]
     },
     "execution_count": 51,
     "metadata": {},
     "output_type": "execute_result"
    }
   ],
   "source": [
    "message.to_csv('/Users/wanghan/Projects/MacMic/data/Messaging.csv')"
   ]
  },
  {
   "cell_type": "code",
   "execution_count": null,
   "metadata": {},
   "outputs": [],
   "source": []
  }
 ],
 "metadata": {
  "kernelspec": {
   "display_name": "Python 3",
   "language": "python",
   "name": "python3"
  },
  "language_info": {
   "codemirror_mode": {
    "name": "ipython",
    "version": 3
   },
   "file_extension": ".py",
   "mimetype": "text/x-python",
   "name": "python",
   "nbconvert_exporter": "python",
   "pygments_lexer": "ipython3",
   "version": "3.7.1"
  }
 },
 "nbformat": 4,
 "nbformat_minor": 2
}
